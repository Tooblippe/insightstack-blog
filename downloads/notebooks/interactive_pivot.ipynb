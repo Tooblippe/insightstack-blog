{
 "metadata": {
  "name": "",
  "signature": "sha256:d6e468dc1a4c4a93f8cf69dbe8649cbc1f76d3c4b80d60aa75b0fa16f7bd1374"
 },
 "nbformat": 3,
 "nbformat_minor": 0,
 "worksheets": [
  {
   "cells": [
    {
     "cell_type": "markdown",
     "metadata": {},
     "source": [
      "http://nbviewer.ipython.org/github/ipython/ipython/blob/2.x/examples/Interactive%20Widgets/Index.ipynb\n",
      "\n",
      "# Interactive Widgets\n",
      "\n",
      "IPython includes an architecture for interactive widgets that tie together Python code running in the kernel and JavaScript/HTML/CSS running in the browser. These widgets enable users to explore their code and data interactively.\n",
      "\n",
      " "
     ]
    },
    {
     "cell_type": "markdown",
     "metadata": {},
     "source": [
      "# Installation\n",
      "I am using [Anaconda Python](https://store.continuum.io/) Distriution. It is free, cross platform. I have used it on my Windows, Max, Linux and Virtual Servers. 32 and 64 bit. No Problem. Download and install.\n",
      "\n",
      "# Create IPython 2.0 Environment using Conda\n",
      "Anaconda comes with it's own command line utility [conda](http://www.continuum.io/blog/conda). We will use Anaconda to create a virtual environment to install the latest dec verion into. (obviously you can use virtualenv)\n"
     ]
    },
    {
     "cell_type": "markdown",
     "collapsed": false,
     "input": [
      "#run these commands from the command prompt to switch to the virutal env and then ipython notebook again to get back\n",
      "#better not to run this code in this cell\n",
      "conda create -n ipython-dev3 ipython-notebook ipython-qtconsole \n",
      "#lets remove the current version of ipython from our environment\n",
      "conda remove -n ipython-dev3 ipython\n",
      "#no goes into the new environment\n",
      "source activate ipython-dev3\n",
      "#install pip into the environment\n",
      "conda install pip\n",
      "#now get the latest and greatest IPython version from git\n",
      "ip install git+https://github.com/ipython/ipython.git\n",
      "#start the notebook, now using IPython 2.00\n",
      "ipython notebook"
     ],
     "language": "python",
     "metadata": {},
     "outputs": []
    },
    {
     "cell_type": "markdown",
     "metadata": {},
     "source": []
    },
    {
     "cell_type": "markdown",
     "metadata": {},
     "source": [
      "# Lets check the IPython Version"
     ]
    },
    {
     "cell_type": "code",
     "collapsed": false,
     "input": [
      "import IPython"
     ],
     "language": "python",
     "metadata": {},
     "outputs": [],
     "prompt_number": 3
    },
    {
     "cell_type": "code",
     "collapsed": false,
     "input": [
      "IPython.version_info"
     ],
     "language": "python",
     "metadata": {},
     "outputs": [
      {
       "metadata": {},
       "output_type": "pyout",
       "prompt_number": 4,
       "text": [
        "(2, 0, 0, 'dev')"
       ]
      }
     ],
     "prompt_number": 4
    },
    {
     "cell_type": "markdown",
     "metadata": {},
     "source": [
      "# Lets create a demo DataFrame using Pandas"
     ]
    },
    {
     "cell_type": "code",
     "collapsed": true,
     "input": [
      "import pandas as pd\n",
      "from numpy import random,round, ndarray\n",
      "\n",
      "tuples = list(zip([['bar', 'bar', 'baz', 'baz',\n",
      "                   'foo', 'foo', 'qux', 'qux'],\n",
      "                   ['one', 'two', 'one', 'two',\n",
      "                    'one', 'two', 'one', 'two']]))\n",
      "    \n",
      "\n",
      "index = pd.MultiIndex.from_tuples(tuples, names=['first', 'second'])\n",
      "\n",
      "df = pd.DataFrame(1, index=index, columns=['A', 'B'])"
     ],
     "language": "python",
     "metadata": {},
     "outputs": [],
     "prompt_number": 64
    },
    {
     "cell_type": "code",
     "collapsed": false,
     "input": [
      "df"
     ],
     "language": "python",
     "metadata": {},
     "outputs": [
      {
       "html": [
        "<div style=\"max-height:1000px;max-width:1500px;overflow:auto;\">\n",
        "<table border=\"1\" class=\"dataframe\">\n",
        "  <thead>\n",
        "    <tr style=\"text-align: right;\">\n",
        "      <th></th>\n",
        "      <th>A</th>\n",
        "      <th>B</th>\n",
        "    </tr>\n",
        "    <tr>\n",
        "      <th>first</th>\n",
        "      <th></th>\n",
        "      <th></th>\n",
        "    </tr>\n",
        "  </thead>\n",
        "  <tbody>\n",
        "    <tr>\n",
        "      <th>[bar, bar, baz, baz, foo, foo, qux, qux]</th>\n",
        "      <td> 1</td>\n",
        "      <td> 1</td>\n",
        "    </tr>\n",
        "    <tr>\n",
        "      <th>[one, two, one, two, one, two, one, two]</th>\n",
        "      <td> 1</td>\n",
        "      <td> 1</td>\n",
        "    </tr>\n",
        "  </tbody>\n",
        "</table>\n",
        "<p>2 rows \u00d7 2 columns</p>\n",
        "</div>"
       ],
       "metadata": {},
       "output_type": "pyout",
       "prompt_number": 65,
       "text": [
        "                                          A  B\n",
        "first                                         \n",
        "[bar, bar, baz, baz, foo, foo, qux, qux]  1  1\n",
        "[one, two, one, two, one, two, one, two]  1  1\n",
        "\n",
        "[2 rows x 2 columns]"
       ]
      }
     ],
     "prompt_number": 65
    },
    {
     "cell_type": "code",
     "collapsed": true,
     "input": [
      "columnC"
     ],
     "language": "python",
     "metadata": {},
     "outputs": [
      {
       "metadata": {},
       "output_type": "pyout",
       "prompt_number": 28,
       "text": [
        "[1, 2, 3, 4, 5, 6, 7, 8, 9, 10]"
       ]
      }
     ],
     "prompt_number": 28
    },
    {
     "cell_type": "code",
     "collapsed": false,
     "input": [
      "round?"
     ],
     "language": "python",
     "metadata": {},
     "outputs": [],
     "prompt_number": 22
    },
    {
     "cell_type": "code",
     "collapsed": false,
     "input": [],
     "language": "python",
     "metadata": {},
     "outputs": []
    }
   ],
   "metadata": {}
  }
 ]
}