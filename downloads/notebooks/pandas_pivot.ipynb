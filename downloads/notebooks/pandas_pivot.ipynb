{
 "metadata": {
  "name": "",
  "signature": "sha256:85656827b5cb9ad4209564bb7b362c5d13ede6d8dd4b7fa679427fcb26539e39"
 },
 "nbformat": 3,
 "nbformat_minor": 0,
 "worksheets": [
  {
   "cells": [
    {
     "cell_type": "markdown",
     "metadata": {},
     "source": [
      "\n",
      "# Lets Create a Dataframe"
     ]
    },
    {
     "cell_type": "markdown",
     "metadata": {},
     "source": [
      "# Lets Create a Dataframe\n",
      "The code below creates a pandas dataframe that we can use to pivot out some data. You will have to download the notebook and run it to see the final result as NBConvert cannot render it and it has to run against an open kernel. You can download the notebook at [here](https://raw.githubusercontent.com/Tooblippe/insightstack-blog/gh-pages/downloads/notebooks/pandas_pivot.ipynb)"
     ]
    },
    {
     "cell_type": "code",
     "collapsed": false,
     "input": [
      "from pandas import Series, DataFrame, pivot_table\n",
      "import numpy as np\n",
      "import numpy\n",
      "\n",
      "d = { 'Class'   : Series( ['a',  'b', 'b','a','a',  'b', 'b','a','a',  'b', 'b','a','a','b','b','b']),\n",
      "      'Area'   : Series( ['North','East', 'South', 'West','North','East', 'South', 'West','North','East', 'South', 'West','South', 'West','South', 'West']),\n",
      "      'Type' : Series( ['square', 'round','square', 'round', 'round', 'square', 'round', 'square', 'round', 'square','round', 'square',]),\n",
      "      'Web'  : Series( ['Y','N','N','Y','Y','N','N','Y','Y','N','N','Y','Y','N','N','Y']),\n",
      "      'Agent'   : Series( ['Mike',  'John', 'Pete','Mike',  'John', 'Pete','Mike',  'John', 'Pete','Mike',  'John', 'Pete','John', 'Pete','John', 'Pete']),\n",
      "      'Income'   : Series( [20., 40., 90., 20.]),\n",
      "      'Profit' : Series( [1., 2., 3., 4.,1., 2., 3., 4.,1., 2., 3., 4.,1., 2., 3., 4.]),\n",
      "      'Stock' : Series( [2., 23., 33., 43.,12., 21., 31., 41.,11., 21., 31., 41.,11., 22., 34., 54.] )\n",
      "     }\n",
      "df = DataFrame(d)\n",
      "print df\n"
     ],
     "language": "python",
     "metadata": {},
     "outputs": [
      {
       "output_type": "stream",
       "stream": "stdout",
       "text": [
        "   Agent   Area Class  Income  Profit  Stock    Type Web\n",
        "0   Mike  North     a      20       1      2  square   Y\n",
        "1   John   East     b      40       2     23   round   N\n",
        "2   Pete  South     b      90       3     33  square   N\n",
        "3   Mike   West     a      20       4     43   round   Y\n",
        "4   John  North     a     NaN       1     12   round   Y\n",
        "5   Pete   East     b     NaN       2     21  square   N\n",
        "6   Mike  South     b     NaN       3     31   round   N\n",
        "7   John   West     a     NaN       4     41  square   Y\n",
        "8   Pete  North     a     NaN       1     11   round   Y\n",
        "9   Mike   East     b     NaN       2     21  square   N\n",
        "10  John  South     b     NaN       3     31   round   N\n",
        "11  Pete   West     a     NaN       4     41  square   Y\n",
        "12  John  South     a     NaN       1     11     NaN   Y\n",
        "13  Pete   West     b     NaN       2     22     NaN   N\n",
        "14  John  South     b     NaN       3     34     NaN   N\n",
        "15  Pete   West     b     NaN       4     54     NaN   Y\n",
        "\n",
        "[16 rows x 8 columns]\n"
       ]
      }
     ],
     "prompt_number": 1
    },
    {
     "cell_type": "markdown",
     "metadata": {},
     "source": [
      "Now lets just create a nice pivot to see if everything is working. We call the sum function on the values for 'Profit' and 'Stock' for the 'Area' and 'Class' rows."
     ]
    },
    {
     "cell_type": "code",
     "collapsed": false,
     "input": [
      "pivot_table( df, rows=['Area','Class'], values = ['Profit','Stock'], aggfunc=numpy.sum)"
     ],
     "language": "python",
     "metadata": {},
     "outputs": [
      {
       "html": [
        "<div style=\"max-height:1000px;max-width:1500px;overflow:auto;\">\n",
        "<table border=\"1\" class=\"dataframe\">\n",
        "  <thead>\n",
        "    <tr style=\"text-align: right;\">\n",
        "      <th></th>\n",
        "      <th></th>\n",
        "      <th>Profit</th>\n",
        "      <th>Stock</th>\n",
        "    </tr>\n",
        "    <tr>\n",
        "      <th>Area</th>\n",
        "      <th>Class</th>\n",
        "      <th></th>\n",
        "      <th></th>\n",
        "    </tr>\n",
        "  </thead>\n",
        "  <tbody>\n",
        "    <tr>\n",
        "      <th>East</th>\n",
        "      <th>b</th>\n",
        "      <td>  6</td>\n",
        "      <td>  65</td>\n",
        "    </tr>\n",
        "    <tr>\n",
        "      <th>North</th>\n",
        "      <th>a</th>\n",
        "      <td>  3</td>\n",
        "      <td>  25</td>\n",
        "    </tr>\n",
        "    <tr>\n",
        "      <th rowspan=\"2\" valign=\"top\">South</th>\n",
        "      <th>a</th>\n",
        "      <td>  1</td>\n",
        "      <td>  11</td>\n",
        "    </tr>\n",
        "    <tr>\n",
        "      <th>b</th>\n",
        "      <td> 12</td>\n",
        "      <td> 129</td>\n",
        "    </tr>\n",
        "    <tr>\n",
        "      <th rowspan=\"2\" valign=\"top\">West</th>\n",
        "      <th>a</th>\n",
        "      <td> 12</td>\n",
        "      <td> 125</td>\n",
        "    </tr>\n",
        "    <tr>\n",
        "      <th>b</th>\n",
        "      <td>  6</td>\n",
        "      <td>  76</td>\n",
        "    </tr>\n",
        "  </tbody>\n",
        "</table>\n",
        "<p>6 rows \u00d7 2 columns</p>\n",
        "</div>"
       ],
       "metadata": {},
       "output_type": "pyout",
       "prompt_number": 2,
       "text": [
        "             Profit  Stock\n",
        "Area  Class               \n",
        "East  b           6     65\n",
        "North a           3     25\n",
        "South a           1     11\n",
        "      b          12    129\n",
        "West  a          12    125\n",
        "      b           6     76\n",
        "\n",
        "[6 rows x 2 columns]"
       ]
      }
     ],
     "prompt_number": 2
    },
    {
     "cell_type": "markdown",
     "metadata": {},
     "source": [
      "To make widgets to interact with we need to first create a function that would return 'visualy' to the workbook what we want. I included a plot for fun. We should be able to pass a matplotlib function like bar to it using the widget aswell. I struggled to pass the dataframe 'df' to the function so hardcoded it for now."
     ]
    },
    {
     "cell_type": "code",
     "collapsed": false,
     "input": [
      "%pylab inline\n",
      "def my_pivot( rows, values, aggfunc, plt=False):\n",
      "    dfp = df\n",
      "    piv = pivot_table( dfp, rows=rows, values=values, aggfunc=aggfunc)\n",
      "    print piv\n",
      "    if plt: plot( piv )"
     ],
     "language": "python",
     "metadata": {},
     "outputs": [
      {
       "output_type": "stream",
       "stream": "stdout",
       "text": [
        "Populating the interactive namespace from numpy and matplotlib\n"
       ]
      }
     ],
     "prompt_number": 5
    },
    {
     "cell_type": "markdown",
     "metadata": {},
     "source": [
      "Lets just test this function to see if it works."
     ]
    },
    {
     "cell_type": "code",
     "collapsed": false,
     "input": [
      "my_pivot(rows=['Area','Class'], values = ['Profit','Stock'], aggfunc=numpy.sum, plt=True)"
     ],
     "language": "python",
     "metadata": {},
     "outputs": [
      {
       "output_type": "stream",
       "stream": "stdout",
       "text": [
        "             Profit  Stock\n",
        "Area  Class               \n",
        "East  b           6     65\n",
        "North a           3     25\n",
        "South a           1     11\n",
        "      b          12    129\n",
        "West  a          12    125\n",
        "      b           6     76\n",
        "\n",
        "[6 rows x 2 columns]\n"
       ]
      },
      {
       "metadata": {},
       "output_type": "display_data",
       "png": "[encoded data removed]",
       "text": [
        "<matplotlib.figure.Figure at 0x103bd0f10>"
       ]
      }
     ],
     "prompt_number": 6
    },
    {
     "cell_type": "markdown",
     "metadata": {},
     "source": [
      "Lets import some goodies to enable us to use the interactive widget. When you run this code for the first time you will see the selectors and then some error. This is because I did not set the default selector values. Select a column with only text values and then for 'values' a column like 'Income', 'Profit' or 'Stock'. You can also select if you want to sum or average them out. There is also a radio button to show or hide the plot. "
     ]
    },
    {
     "cell_type": "code",
     "collapsed": false,
     "input": [
      "from IPython.html.widgets import interact, SelectWidget, CheckboxWidget, RadioButtonsWidget\n",
      "from IPython.display import display"
     ],
     "language": "python",
     "metadata": {},
     "outputs": [],
     "prompt_number": 9
    },
    {
     "cell_type": "code",
     "collapsed": false,
     "input": [
      "i = interact( my_pivot,\n",
      "                 rows    = SelectWidget(values=list(df.columns)), \n",
      "                 values  = SelectWidget(values=list(df.columns)),\n",
      "                 aggfunc = SelectWidget( values={ 'sum' : numpy.sum, 'ave' : numpy.average }),\n",
      "                 plt     = RadioButtonsWidget( values = { 'Plot': True, 'False' : False } )\n",
      "             )"
     ],
     "language": "python",
     "metadata": {},
     "outputs": [
      {
       "output_type": "stream",
       "stream": "stdout",
       "text": [
        "Class\n",
        "a        2.285714\n",
        "b        2.666667\n",
        "Name: Profit, dtype: float64\n"
       ]
      },
      {
       "metadata": {},
       "output_type": "display_data",
       "png": "[encoded data removed]",
       "text": [
        "<matplotlib.figure.Figure at 0x1071acb90>"
       ]
      }
     ],
     "prompt_number": 10
    },
    {
     "cell_type": "heading",
     "level": 4,
     "metadata": {},
     "source": [
      "    \n"
     ]
    }
   ],
   "metadata": {}
  }
 ]
}