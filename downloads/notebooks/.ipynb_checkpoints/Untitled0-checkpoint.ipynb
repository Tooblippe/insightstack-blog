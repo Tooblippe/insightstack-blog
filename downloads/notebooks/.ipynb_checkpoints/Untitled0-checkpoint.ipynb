{
 "metadata": {
  "name": "",
  "signature": "sha256:48c2d5c716768bf6495f5292b355cc57f0265aba36fcf616b4e4174d0d514632"
 },
 "nbformat": 3,
 "nbformat_minor": 0,
 "worksheets": [
  {
   "cells": [
    {
     "cell_type": "code",
     "collapsed": false,
     "input": [
      "print 'hallo'"
     ],
     "language": "python",
     "metadata": {},
     "outputs": []
    }
   ],
   "metadata": {}
  }
 ]
}