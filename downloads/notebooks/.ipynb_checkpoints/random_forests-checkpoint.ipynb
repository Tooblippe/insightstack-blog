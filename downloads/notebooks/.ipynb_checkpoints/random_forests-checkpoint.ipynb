{
 "metadata": {
  "name": "",
  "signature": "sha256:a38855a1dd0b0bed08ea035bd9068c33f7a2cbdd786811ecf8cfd47a0349ea67"
 },
 "nbformat": 3,
 "nbformat_minor": 0,
 "worksheets": [
  {
   "cells": [
    {
     "cell_type": "code",
     "collapsed": false,
     "input": [
      "import pandas as pd"
     ],
     "language": "python",
     "metadata": {},
     "outputs": [],
     "prompt_number": 57
    },
    {
     "cell_type": "code",
     "collapsed": false,
     "input": [
      "churn = pd.read_csv( 'chrun.csv')\n",
      "churn.head()"
     ],
     "language": "python",
     "metadata": {},
     "outputs": [
      {
       "html": [
        "<div style=\"max-height:1000px;max-width:1500px;overflow:auto;\">\n",
        "<table border=\"1\" class=\"dataframe\">\n",
        "  <thead>\n",
        "    <tr style=\"text-align: right;\">\n",
        "      <th></th>\n",
        "      <th>Account Length</th>\n",
        "      <th>VMail Message</th>\n",
        "      <th>Day Mins</th>\n",
        "      <th>Eve Mins</th>\n",
        "      <th>Night Mins</th>\n",
        "      <th>Intl Mins</th>\n",
        "      <th>CustServ Calls</th>\n",
        "      <th>Int'l Plan</th>\n",
        "      <th>VMail Plan</th>\n",
        "      <th>Day Calls</th>\n",
        "      <th>Day Charge</th>\n",
        "      <th>Eve Calls</th>\n",
        "      <th>Eve Charge</th>\n",
        "      <th>Night Calls</th>\n",
        "      <th>Night Charge</th>\n",
        "      <th>Intl Calls</th>\n",
        "      <th>Intl Charge</th>\n",
        "      <th>State</th>\n",
        "      <th>Churn</th>\n",
        "    </tr>\n",
        "  </thead>\n",
        "  <tbody>\n",
        "    <tr>\n",
        "      <th>0</th>\n",
        "      <td> 128</td>\n",
        "      <td> 25</td>\n",
        "      <td> 265.1</td>\n",
        "      <td> 197.4</td>\n",
        "      <td> 244.7</td>\n",
        "      <td> 10.0</td>\n",
        "      <td> 1</td>\n",
        "      <td> 0</td>\n",
        "      <td> 1</td>\n",
        "      <td> 110</td>\n",
        "      <td> 45.07</td>\n",
        "      <td>  99</td>\n",
        "      <td> 16.78</td>\n",
        "      <td>  91</td>\n",
        "      <td> 11.01</td>\n",
        "      <td> 3</td>\n",
        "      <td> 2.70</td>\n",
        "      <td> KS</td>\n",
        "      <td> 0</td>\n",
        "    </tr>\n",
        "    <tr>\n",
        "      <th>1</th>\n",
        "      <td> 107</td>\n",
        "      <td> 26</td>\n",
        "      <td> 161.6</td>\n",
        "      <td> 195.5</td>\n",
        "      <td> 254.4</td>\n",
        "      <td> 13.7</td>\n",
        "      <td> 1</td>\n",
        "      <td> 0</td>\n",
        "      <td> 1</td>\n",
        "      <td> 123</td>\n",
        "      <td> 27.47</td>\n",
        "      <td> 103</td>\n",
        "      <td> 16.62</td>\n",
        "      <td> 103</td>\n",
        "      <td> 11.45</td>\n",
        "      <td> 3</td>\n",
        "      <td> 3.70</td>\n",
        "      <td> OH</td>\n",
        "      <td> 0</td>\n",
        "    </tr>\n",
        "    <tr>\n",
        "      <th>2</th>\n",
        "      <td> 137</td>\n",
        "      <td>  0</td>\n",
        "      <td> 243.4</td>\n",
        "      <td> 121.2</td>\n",
        "      <td> 162.6</td>\n",
        "      <td> 12.2</td>\n",
        "      <td> 0</td>\n",
        "      <td> 0</td>\n",
        "      <td> 0</td>\n",
        "      <td> 114</td>\n",
        "      <td> 41.38</td>\n",
        "      <td> 110</td>\n",
        "      <td> 10.30</td>\n",
        "      <td> 104</td>\n",
        "      <td>  7.32</td>\n",
        "      <td> 5</td>\n",
        "      <td> 3.29</td>\n",
        "      <td> NJ</td>\n",
        "      <td> 0</td>\n",
        "    </tr>\n",
        "    <tr>\n",
        "      <th>3</th>\n",
        "      <td>  84</td>\n",
        "      <td>  0</td>\n",
        "      <td> 299.4</td>\n",
        "      <td>  61.9</td>\n",
        "      <td> 196.9</td>\n",
        "      <td>  6.6</td>\n",
        "      <td> 2</td>\n",
        "      <td> 1</td>\n",
        "      <td> 0</td>\n",
        "      <td>  71</td>\n",
        "      <td> 50.90</td>\n",
        "      <td>  88</td>\n",
        "      <td>  5.26</td>\n",
        "      <td>  89</td>\n",
        "      <td>  8.86</td>\n",
        "      <td> 7</td>\n",
        "      <td> 1.78</td>\n",
        "      <td> OH</td>\n",
        "      <td> 0</td>\n",
        "    </tr>\n",
        "    <tr>\n",
        "      <th>4</th>\n",
        "      <td>  75</td>\n",
        "      <td>  0</td>\n",
        "      <td> 166.7</td>\n",
        "      <td> 148.3</td>\n",
        "      <td> 186.9</td>\n",
        "      <td> 10.1</td>\n",
        "      <td> 3</td>\n",
        "      <td> 1</td>\n",
        "      <td> 0</td>\n",
        "      <td> 113</td>\n",
        "      <td> 28.34</td>\n",
        "      <td> 122</td>\n",
        "      <td> 12.61</td>\n",
        "      <td> 121</td>\n",
        "      <td>  8.41</td>\n",
        "      <td> 3</td>\n",
        "      <td> 2.73</td>\n",
        "      <td> OK</td>\n",
        "      <td> 0</td>\n",
        "    </tr>\n",
        "  </tbody>\n",
        "</table>\n",
        "<p>5 rows \u00d7 19 columns</p>\n",
        "</div>"
       ],
       "metadata": {},
       "output_type": "pyout",
       "prompt_number": 58,
       "text": [
        "   Account Length  VMail Message  Day Mins  Eve Mins  Night Mins  Intl Mins  \\\n",
        "0             128             25     265.1     197.4       244.7       10.0   \n",
        "1             107             26     161.6     195.5       254.4       13.7   \n",
        "2             137              0     243.4     121.2       162.6       12.2   \n",
        "3              84              0     299.4      61.9       196.9        6.6   \n",
        "4              75              0     166.7     148.3       186.9       10.1   \n",
        "\n",
        "   CustServ Calls  Int'l Plan  VMail Plan  Day Calls  Day Charge  Eve Calls  \\\n",
        "0               1           0           1        110       45.07         99   \n",
        "1               1           0           1        123       27.47        103   \n",
        "2               0           0           0        114       41.38        110   \n",
        "3               2           1           0         71       50.90         88   \n",
        "4               3           1           0        113       28.34        122   \n",
        "\n",
        "   Eve Charge  Night Calls  Night Charge  Intl Calls  Intl Charge State  Churn  \n",
        "0       16.78           91         11.01           3         2.70    KS      0  \n",
        "1       16.62          103         11.45           3         3.70    OH      0  \n",
        "2       10.30          104          7.32           5         3.29    NJ      0  \n",
        "3        5.26           89          8.86           7         1.78    OH      0  \n",
        "4       12.61          121          8.41           3         2.73    OK      0  \n",
        "\n",
        "[5 rows x 19 columns]"
       ]
      }
     ],
     "prompt_number": 58
    },
    {
     "cell_type": "code",
     "collapsed": false,
     "input": [
      "y = churn.Churn\n",
      "X = churn[ churn.columns[0:17] ]\n",
      "print len(y)"
     ],
     "language": "python",
     "metadata": {},
     "outputs": [
      {
       "output_type": "stream",
       "stream": "stdout",
       "text": [
        "3333\n"
       ]
      }
     ],
     "prompt_number": 90
    },
    {
     "cell_type": "code",
     "collapsed": false,
     "input": [
      "def rf( X, y):\n",
      "    from sklearn.ensemble import RandomForestClassifier\n",
      "    clf = RandomForestClassifier(n_estimators=100)\n",
      "    from sklearn.cross_validation import cross_val_score\n",
      "    clf = clf.fit(X, y)\n",
      "    scores = cross_val_score(clf, X, y)\n",
      "    features = pd.DataFrame()\n",
      "    features['features'] = X.columns\n",
      "    features['importance'] = clf.feature_importances_\n",
      "    return clf, scores.mean(), features "
     ],
     "language": "python",
     "metadata": {},
     "outputs": [],
     "prompt_number": 70
    },
    {
     "cell_type": "code",
     "collapsed": false,
     "input": [
      "clf1, m1, f1 = rf(X, y)\n",
      "print m1"
     ],
     "language": "python",
     "metadata": {},
     "outputs": [
      {
       "output_type": "stream",
       "stream": "stdout",
       "text": [
        "0.954695469547\n"
       ]
      }
     ],
     "prompt_number": 104
    },
    {
     "cell_type": "code",
     "collapsed": false,
     "input": [
      "clf2, m2, f2 = rf( X[1:2000], Y[1:2000])\n",
      "print m2"
     ],
     "language": "python",
     "metadata": {},
     "outputs": [
      {
       "output_type": "stream",
       "stream": "stdout",
       "text": [
        "0.942974458717\n"
       ]
      }
     ],
     "prompt_number": 105
    },
    {
     "cell_type": "code",
     "collapsed": false,
     "input": [
      "c = 0.0\n",
      "d = 0.0\n",
      "n = 0.0\n",
      "for n, pred in enumerate(clf2.predict( X[2001:3333] )):\n",
      "    #print \"Predict: \", pred, \"Actual: \", Y[2001+n], pred==Y[2001+n]\n",
      "    if pred==Y[2001+n]: c = c+1\n",
      "    if (pred<>Y[2001+n]) and (Y[2001+n]==1) : d = d+1\n",
      "    n = n+1\n",
      "print c  ,d \n",
      "print n\n",
      "print c/n\n",
      "print n-c\n",
      "print (n-c)/sum(Y[2001:3333])"
     ],
     "language": "python",
     "metadata": {},
     "outputs": [
      {
       "output_type": "stream",
       "stream": "stdout",
       "text": [
        "1262.0 65.0\n",
        "1332\n",
        "0.947447447447\n",
        "70.0\n",
        "0.331753554502\n"
       ]
      }
     ],
     "prompt_number": 122
    },
    {
     "cell_type": "code",
     "collapsed": false,
     "input": [],
     "language": "python",
     "metadata": {},
     "outputs": [],
     "prompt_number": 103
    },
    {
     "cell_type": "code",
     "collapsed": false,
     "input": [],
     "language": "python",
     "metadata": {},
     "outputs": []
    }
   ],
   "metadata": {}
  }
 ]
}